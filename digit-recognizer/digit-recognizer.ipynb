{
 "cells": [
  {
   "cell_type": "markdown",
   "metadata": {},
   "source": [
    "This is a set of models trained on the MNIST handwriting [dataset](http://yann.lecun.com/exdb/mnist/). They increase in effectiveness and complexity, but interestingly the very simple first model - a logistic regression - gives pretty accurate results. \n",
    "\n",
    "This was done as part of a [Kaggle training exercise](https://www.kaggle.com/c/digit-recognizer). "
   ]
  },
  {
   "cell_type": "code",
   "execution_count": 12,
   "metadata": {},
   "outputs": [],
   "source": [
    "sample_fraction=.1\n",
    "image_size = 28"
   ]
  },
  {
   "cell_type": "code",
   "execution_count": 13,
   "metadata": {},
   "outputs": [],
   "source": [
    "import pandas as pd\n",
    "\n",
    "train = pd.read_csv('train.csv')\n",
    "\n",
    "smaller_sample = train.sample(frac=sample_fraction, random_state=5)\n",
    "X = smaller_sample.drop('label', axis='columns')\n",
    "y = smaller_sample['label']"
   ]
  },
  {
   "cell_type": "code",
   "execution_count": 14,
   "metadata": {},
   "outputs": [
    {
     "data": {
      "text/plain": [
       "((3150, 784), (1050, 784))"
      ]
     },
     "execution_count": 14,
     "metadata": {},
     "output_type": "execute_result"
    }
   ],
   "source": [
    "from sklearn.model_selection import train_test_split\n",
    "\n",
    "X_train, X_test, y_train, y_test = train_test_split(X, y, random_state=2)\n",
    "X_train.shape, X_test.shape"
   ]
  },
  {
   "cell_type": "markdown",
   "metadata": {},
   "source": [
    "Display a randomly selected digit so that we know what we are dealing with. The data as supplied here is flat - the 28 x 28 matrix has been unrolled into a 784 long row. This is fine for the simpler models, but we will need to reconstruct the images for the Convolutional Neural Networks later. We reconstruct our randomly selected one here for display by matplotlib."
   ]
  },
  {
   "cell_type": "code",
   "execution_count": 15,
   "metadata": {},
   "outputs": [
    {
     "name": "stdout",
     "output_type": "stream",
     "text": [
      "label is 0\n"
     ]
    },
    {
     "data": {
      "image/png": "[encoded data removed]",
      "text/plain": [
       "<Figure size 432x288 with 1 Axes>"
      ]
     },
     "metadata": {
      "needs_background": "light"
     },
     "output_type": "display_data"
    }
   ],
   "source": [
    "import matplotlib.pyplot as plt\n",
    "import random\n",
    "def show_digit(index):\n",
    "    print('label is {}'.format(y.iloc[index]))\n",
    "    plt.imshow(X.iloc[index].values.reshape(image_size,-1), cmap='gray')\n",
    "    plt.show()\n",
    "show_digit(random.randint(0,len(X)))"
   ]
  },
  {
   "cell_type": "markdown",
   "metadata": {},
   "source": [
    "## Logistic Regression"
   ]
  },
  {
   "cell_type": "code",
   "execution_count": 27,
   "metadata": {},
   "outputs": [
    {
     "name": "stdout",
     "output_type": "stream",
     "text": [
      "elapsed time 12.37 s\n"
     ]
    }
   ],
   "source": [
    "from sklearn.linear_model import LogisticRegression\n",
    "from time import perf_counter as pc\n",
    "\n",
    "lr = LogisticRegression(solver='lbfgs', max_iter=10000, multi_class='multinomial')\n",
    "\n",
    "t0 = pc()\n",
    "lr.fit(X_train, y_train)\n",
    "print('elapsed time {:.2f} s'.format(pc() - t0))"
   ]
  },
  {
   "cell_type": "code",
   "execution_count": 28,
   "metadata": {},
   "outputs": [
    {
     "data": {
      "text/plain": [
       "'accuracy is 0.863'"
      ]
     },
     "execution_count": 28,
     "metadata": {},
     "output_type": "execute_result"
    }
   ],
   "source": [
    "'accuracy is {:.3f}'.format(lr.score(X_test, y_test))"
   ]
  },
  {
   "cell_type": "markdown",
   "metadata": {},
   "source": [
    "The first time I did a Logistic Regression on this data I was surprised that it worked at all. This means that a pixel by pixel correspondence between different handwritten version of the same digit gives a good model. In a previous notebook I went on to use a deskew function to straighten all of the images up prior to training. This gives a beter liklihood that of pixel by pixel correspondence and gave even better results, but I am not going to bother with that here as we are moving on to much better models.\n",
    "\n",
    "Prior to generating results in the correct format for submission to Kaggle we retrain the model with the full (sampled in this case) dataset. For a real competition run you would change the `sample_fraction` value at the top of the notebook to `1`."
   ]
  },
  {
   "cell_type": "code",
   "execution_count": 29,
   "metadata": {},
   "outputs": [
    {
     "name": "stdout",
     "output_type": "stream",
     "text": [
      "elapsed time 19.16\n"
     ]
    }
   ],
   "source": [
    "t0 = pc()\n",
    "lr.fit(X, y)\n",
    "print('elapsed time {:.2f}'.format(pc() - t0))"
   ]
  },
  {
   "cell_type": "markdown",
   "metadata": {},
   "source": [
    "This function writes the csv file that Kaggle requires. It is very useful to have this as part of your pipeline from early on in a project so that you can see if everything keeps working as you iterate. It behaves slightly differently for the different networks, but that should be self explanatory. Once you have done this just upload `output.csv` to Kaggle."
   ]
  },
  {
   "cell_type": "code",
   "execution_count": 102,
   "metadata": {},
   "outputs": [],
   "source": [
    "def generate_results(model, type='non-nn'):\n",
    "    test = pd.read_csv('test.csv')\n",
    "    \n",
    "    if type=='nn':\n",
    "        result = model.predict(test.values/255)\n",
    "        result = np.argmax(result, axis=1)\n",
    "    elif type=='cnn':\n",
    "        result = model.predict(np.expand_dims((test.values/255).reshape(-1, 28, 28), axis=3))\n",
    "        result = np.argmax(result, axis=1)\n",
    "    else:\n",
    "        result = model.predict(test)\n",
    "        \n",
    "    with open('output.csv', 'w') as output:\n",
    "        output.write('ImageId,Label\\n')\n",
    "        for a in zip(np.array(test.index)+1, result):\n",
    "            output.writelines(str(a[0]) + \",\"+ str(a[1])+'\\n')"
   ]
  },
  {
   "cell_type": "code",
   "execution_count": 269,
   "metadata": {},
   "outputs": [],
   "source": [
    "generate_results(lr)"
   ]
  },
  {
   "cell_type": "markdown",
   "metadata": {},
   "source": [
    "## Neural network"
   ]
  },
  {
   "cell_type": "markdown",
   "metadata": {},
   "source": [
    "On the original data [website](http://yann.lecun.com/exdb/mnist/) from Yann Le Cunn you can find a table of previous results on this dataset. The model below is just a normal feedforward neural network with no convolutions or dropout. It is based on one of the deeper networks in that table. \n",
    "It gives very good results with a validation accuracy of 92.6%."
   ]
  },
  {
   "cell_type": "code",
   "execution_count": 32,
   "metadata": {},
   "outputs": [],
   "source": [
    "from tensorflow.keras.utils import to_categorical\n",
    "X_train_nn = X_train.values/255\n",
    "X_test_nn = X_test.values/255\n",
    "\n",
    "y_train_cat = to_categorical(y_train.values)\n",
    "y_test_cat = to_categorical(y_test.values)"
   ]
  },
  {
   "cell_type": "code",
   "execution_count": 33,
   "metadata": {},
   "outputs": [
    {
     "name": "stdout",
     "output_type": "stream",
     "text": [
      "Model: \"sequential\"\n",
      "_________________________________________________________________\n",
      "Layer (type)                 Output Shape              Param #   \n",
      "=================================================================\n",
      "dense (Dense)                (None, 784)               615440    \n",
      "_________________________________________________________________\n",
      "dense_1 (Dense)              (None, 2500)              1962500   \n",
      "_________________________________________________________________\n",
      "dense_2 (Dense)              (None, 2000)              5002000   \n",
      "_________________________________________________________________\n",
      "dense_3 (Dense)              (None, 1500)              3001500   \n",
      "_________________________________________________________________\n",
      "dense_4 (Dense)              (None, 1000)              1501000   \n",
      "_________________________________________________________________\n",
      "dense_5 (Dense)              (None, 500)               500500    \n",
      "_________________________________________________________________\n",
      "dense_6 (Dense)              (None, 10)                5010      \n",
      "=================================================================\n",
      "Total params: 12,587,950\n",
      "Trainable params: 12,587,950\n",
      "Non-trainable params: 0\n",
      "_________________________________________________________________\n"
     ]
    }
   ],
   "source": [
    "from tensorflow.keras.layers import Dense, Conv2D, Dropout\n",
    "from tensorflow.keras.models import Sequential\n",
    "\n",
    "model = Sequential()\n",
    "model.add(Dense(784, input_dim=784, activation='relu'))\n",
    "model.add(Dense(2500, activation='relu'))\n",
    "model.add(Dense(2000, activation='relu'))\n",
    "model.add(Dense(1500, activation='relu'))\n",
    "model.add(Dense(1000, activation='relu'))\n",
    "model.add(Dense(500, activation='relu'))\n",
    "model.add(Dense(10, activation='softmax'))\n",
    "model.compile(optimizer='adam', loss='categorical_crossentropy', metrics=['accuracy'])\n",
    "model.summary()"
   ]
  },
  {
   "cell_type": "code",
   "execution_count": 34,
   "metadata": {},
   "outputs": [
    {
     "name": "stdout",
     "output_type": "stream",
     "text": [
      "Train on 3150 samples, validate on 1050 samples\n",
      "Epoch 1/5\n",
      "3150/3150 [==============================] - 8s 3ms/sample - loss: 0.8435 - accuracy: 0.7317 - val_loss: 0.4346 - val_accuracy: 0.8724\n",
      "Epoch 2/5\n",
      "3150/3150 [==============================] - 7s 2ms/sample - loss: 0.3464 - accuracy: 0.9086 - val_loss: 0.3568 - val_accuracy: 0.8933\n",
      "Epoch 3/5\n",
      "3150/3150 [==============================] - 7s 2ms/sample - loss: 0.3066 - accuracy: 0.9270 - val_loss: 0.4609 - val_accuracy: 0.8876\n",
      "Epoch 4/5\n",
      "3150/3150 [==============================] - 8s 2ms/sample - loss: 0.2929 - accuracy: 0.9311 - val_loss: 0.3839 - val_accuracy: 0.9181\n",
      "Epoch 5/5\n",
      "3150/3150 [==============================] - 7s 2ms/sample - loss: 0.1516 - accuracy: 0.9629 - val_loss: 0.3215 - val_accuracy: 0.9295\n"
     ]
    }
   ],
   "source": [
    "history = model.fit(X_train_nn, y_train_cat , epochs=5, batch_size=32, validation_data=(X_test_nn, y_test_cat), verbose=1)"
   ]
  },
  {
   "cell_type": "code",
   "execution_count": 36,
   "metadata": {},
   "outputs": [
    {
     "name": "stdout",
     "output_type": "stream",
     "text": [
      "0.9295238\n"
     ]
    },
    {
     "data": {
      "image/png": "[encoded data removed]",
      "text/plain": [
       "<Figure size 432x288 with 1 Axes>"
      ]
     },
     "metadata": {
      "needs_background": "light"
     },
     "output_type": "display_data"
    }
   ],
   "source": [
    "print(history.history['val_accuracy'][-1])\n",
    "_ = plt.plot(history.history['val_accuracy'], label='val_accuracy')\n",
    "_ = plt.plot(history.history['val_loss'], label='val_loss')\n",
    "plt.grid()\n",
    "_ = plt.legend()"
   ]
  },
  {
   "cell_type": "code",
   "execution_count": 270,
   "metadata": {},
   "outputs": [],
   "source": [
    "generate_results(model, type='nn')"
   ]
  },
  {
   "cell_type": "markdown",
   "metadata": {},
   "source": [
    "## CNN"
   ]
  },
  {
   "cell_type": "markdown",
   "metadata": {},
   "source": [
    "A Convolutional Neural Network is still probably the best technique for machine learning on images. CNNs are feature detectors, they use the proximity of pixels to define features which are aggregated through successive layers of convolutions into higher order features. \n",
    "\n",
    "Something like -\n",
    "\n",
    "edge -> circle -> bodypart -> face\n",
    "\n",
    "The output from all of this is fed into a normal fully connected feedforward network."
   ]
  },
  {
   "cell_type": "code",
   "execution_count": 39,
   "metadata": {},
   "outputs": [
    {
     "data": {
      "text/plain": [
       "((3150, 28, 28, 1), (1050, 28, 28, 1))"
      ]
     },
     "execution_count": 39,
     "metadata": {},
     "output_type": "execute_result"
    }
   ],
   "source": [
    "import numpy as np\n",
    "\n",
    "# The input to our CNN needs a channel. 3 for RGB, but just 1 in our case. We add this with Numpy's expand_dims\n",
    "X_train_nn = np.expand_dims(X_train_nn.reshape(-1, 28, 28), axis=3)\n",
    "X_test_nn = np.expand_dims(X_test_nn.reshape(-1, 28, 28), axis=3)\n",
    "X_train_nn.shape, X_test_nn.shape"
   ]
  },
  {
   "cell_type": "code",
   "execution_count": 104,
   "metadata": {},
   "outputs": [],
   "source": [
    "from tensorflow.keras.layers import Conv2D, Flatten, MaxPool2D\n",
    "\n",
    "model = Sequential()\n",
    "\n",
    "model.add(Conv2D(filters=32, padding='same', input_shape=(X_train_nn.shape[1:]), kernel_size=5))\n",
    "model.add(MaxPool2D())\n",
    "model.add(Dropout(rate=.4))\n",
    "\n",
    "model.add(Conv2D(filters=64, padding='same', kernel_size=5))\n",
    "model.add(MaxPool2D())\n",
    "model.add(Dropout(rate=.4))\n",
    "\n",
    "model.add(Flatten())\n",
    "model.add(Dense(128, activation='relu'))\n",
    "model.add(Dropout(rate=.4))\n",
    "\n",
    "model.add(Dense(10, activation='softmax'))\n",
    "model.compile(optimizer='adam', loss='categorical_crossentropy', metrics=['accuracy'])"
   ]
  },
  {
   "cell_type": "code",
   "execution_count": 105,
   "metadata": {},
   "outputs": [
    {
     "name": "stdout",
     "output_type": "stream",
     "text": [
      "Train on 31500 samples, validate on 10500 samples\n",
      "Epoch 1/20\n",
      "31500/31500 [==============================] - 49s 2ms/sample - loss: 0.2872 - accuracy: 0.9111 - val_loss: 0.0973 - val_accuracy: 0.9695\n",
      "Epoch 2/20\n",
      "31500/31500 [==============================] - 50s 2ms/sample - loss: 0.1297 - accuracy: 0.9603 - val_loss: 0.0638 - val_accuracy: 0.9797\n",
      "Epoch 3/20\n",
      "31500/31500 [==============================] - 49s 2ms/sample - loss: 0.1073 - accuracy: 0.9668 - val_loss: 0.0662 - val_accuracy: 0.9818\n",
      "Epoch 4/20\n",
      "31500/31500 [==============================] - 50s 2ms/sample - loss: 0.0939 - accuracy: 0.9715 - val_loss: 0.0550 - val_accuracy: 0.9856\n",
      "Epoch 5/20\n",
      "31500/31500 [==============================] - 49s 2ms/sample - loss: 0.0910 - accuracy: 0.9722 - val_loss: 0.0510 - val_accuracy: 0.9852\n",
      "Epoch 6/20\n",
      "31500/31500 [==============================] - 49s 2ms/sample - loss: 0.0823 - accuracy: 0.9750 - val_loss: 0.0490 - val_accuracy: 0.9864\n",
      "Epoch 7/20\n",
      "31500/31500 [==============================] - 49s 2ms/sample - loss: 0.0811 - accuracy: 0.9748 - val_loss: 0.0516 - val_accuracy: 0.9863\n",
      "Epoch 8/20\n",
      "31500/31500 [==============================] - 49s 2ms/sample - loss: 0.0790 - accuracy: 0.9758 - val_loss: 0.0512 - val_accuracy: 0.9847\n",
      "Epoch 9/20\n",
      "31500/31500 [==============================] - 51s 2ms/sample - loss: 0.0727 - accuracy: 0.9786 - val_loss: 0.0670 - val_accuracy: 0.9849\n",
      "Epoch 10/20\n",
      "31500/31500 [==============================] - 50s 2ms/sample - loss: 0.0690 - accuracy: 0.9790 - val_loss: 0.0601 - val_accuracy: 0.9848\n",
      "Epoch 11/20\n",
      "31500/31500 [==============================] - 51s 2ms/sample - loss: 0.0728 - accuracy: 0.9785 - val_loss: 0.0546 - val_accuracy: 0.9859\n",
      "Epoch 12/20\n",
      "31500/31500 [==============================] - 52s 2ms/sample - loss: 0.0685 - accuracy: 0.9791 - val_loss: 0.0650 - val_accuracy: 0.9850\n",
      "Epoch 13/20\n",
      "31500/31500 [==============================] - 53s 2ms/sample - loss: 0.0690 - accuracy: 0.9788 - val_loss: 0.0515 - val_accuracy: 0.9874\n",
      "Epoch 14/20\n",
      "31500/31500 [==============================] - 51s 2ms/sample - loss: 0.0629 - accuracy: 0.9810 - val_loss: 0.0587 - val_accuracy: 0.9877\n",
      "Epoch 15/20\n",
      "31500/31500 [==============================] - 48s 2ms/sample - loss: 0.0697 - accuracy: 0.9790 - val_loss: 0.0553 - val_accuracy: 0.9868\n",
      "Epoch 16/20\n",
      "31500/31500 [==============================] - 47s 2ms/sample - loss: 0.0660 - accuracy: 0.9798 - val_loss: 0.0549 - val_accuracy: 0.9877\n",
      "Epoch 17/20\n",
      "31500/31500 [==============================] - 50s 2ms/sample - loss: 0.0672 - accuracy: 0.9805 - val_loss: 0.0589 - val_accuracy: 0.9874\n",
      "Epoch 18/20\n",
      "31500/31500 [==============================] - 49s 2ms/sample - loss: 0.0648 - accuracy: 0.9810 - val_loss: 0.0493 - val_accuracy: 0.9872\n",
      "Epoch 19/20\n",
      "31500/31500 [==============================] - 52s 2ms/sample - loss: 0.0649 - accuracy: 0.9810 - val_loss: 0.0513 - val_accuracy: 0.9887\n",
      "Epoch 20/20\n",
      "31500/31500 [==============================] - 50s 2ms/sample - loss: 0.0600 - accuracy: 0.9820 - val_loss: 0.0545 - val_accuracy: 0.9881\n"
     ]
    }
   ],
   "source": [
    "history = model.fit(X_train_nn, y_train_cat , epochs=20, batch_size=32, validation_data=(X_test_nn, y_test_cat),verbose=1)"
   ]
  },
  {
   "cell_type": "code",
   "execution_count": 89,
   "metadata": {},
   "outputs": [
    {
     "name": "stdout",
     "output_type": "stream",
     "text": [
      "0.9695238\n"
     ]
    },
    {
     "data": {
      "text/plain": [
       "<matplotlib.legend.Legend at 0x18421d4e0>"
      ]
     },
     "execution_count": 89,
     "metadata": {},
     "output_type": "execute_result"
    },
    {
     "data": {
      "image/png": "[encoded data removed]",
      "text/plain": [
       "<Figure size 432x288 with 1 Axes>"
      ]
     },
     "metadata": {
      "needs_background": "light"
     },
     "output_type": "display_data"
    }
   ],
   "source": [
    "print(history.history['val_accuracy'][-1])\n",
    "plt.plot(history.history['val_accuracy'], label='val_accuracy')\n",
    "plt.plot(history.history['val_loss'], label='val_loss')\n",
    "plt.grid()\n",
    "plt.legend()"
   ]
  },
  {
   "cell_type": "code",
   "execution_count": 106,
   "metadata": {},
   "outputs": [],
   "source": [
    "generate_results(model, type='cnn')"
   ]
  },
  {
   "cell_type": "markdown",
   "metadata": {},
   "source": [
    "So from the history output for the last run you can see a validation accuracy of 98.8%. Pretty impressive for so little code. Overall this took about half an hour to train on my laptop. \n",
    "There are many more enhancements that can be made to improve this model. See the list of world class research results on Le Cunn's website. "
   ]
  },
  {
   "cell_type": "code",
   "execution_count": null,
   "metadata": {},
   "outputs": [],
   "source": []
  }
 ],
 "metadata": {
  "kernelspec": {
   "display_name": "Python 3",
   "language": "python",
   "name": "python3"
  },
  "language_info": {
   "codemirror_mode": {
    "name": "ipython",
    "version": 3
   },
   "file_extension": ".py",
   "mimetype": "text/x-python",
   "name": "python",
   "nbconvert_exporter": "python",
   "pygments_lexer": "ipython3",
   "version": "3.7.0"
  }
 },
 "nbformat": 4,
 "nbformat_minor": 2
}
